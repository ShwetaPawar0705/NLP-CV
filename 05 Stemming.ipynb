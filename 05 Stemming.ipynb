{
 "cells": [
  {
   "cell_type": "markdown",
   "id": "af1002c7",
   "metadata": {},
   "source": [
    "## Declare the words"
   ]
  },
  {
   "cell_type": "code",
   "execution_count": 1,
   "id": "2c36e629",
   "metadata": {},
   "outputs": [],
   "source": [
    "words1 = 'managing', 'manage', 'managemnet', 'managerial', 'managed'\n",
    "words2= 'worked', 'workable', 'working', 'worked'\n",
    "words3 = 'big', 'bigger', 'biggest'\n",
    "words4 = 'go', 'gone', 'went', 'going'\n",
    "words5 = 'association', 'associated', 'associate'"
   ]
  },
  {
   "cell_type": "markdown",
   "id": "6b8959cc",
   "metadata": {},
   "source": [
    "### Porter Stemmer"
   ]
  },
  {
   "cell_type": "code",
   "execution_count": 2,
   "id": "bf330b79",
   "metadata": {},
   "outputs": [],
   "source": [
    "from nltk.stem import PorterStemmer"
   ]
  },
  {
   "cell_type": "code",
   "execution_count": 3,
   "id": "396ffe58",
   "metadata": {},
   "outputs": [],
   "source": [
    "ps = PorterStemmer()"
   ]
  },
  {
   "cell_type": "code",
   "execution_count": 11,
   "id": "93d19136",
   "metadata": {},
   "outputs": [
    {
     "data": {
      "text/plain": [
       "'big'"
      ]
     },
     "execution_count": 11,
     "metadata": {},
     "output_type": "execute_result"
    }
   ],
   "source": [
    "ps.stem(words1[0])"
   ]
  },
  {
   "cell_type": "code",
   "execution_count": 13,
   "id": "77a71283",
   "metadata": {},
   "outputs": [
    {
     "name": "stdout",
     "output_type": "stream",
     "text": [
      "managing ---> manag\n",
      "manage ---> manag\n",
      "managemnet ---> managemnet\n",
      "managerial ---> manageri\n",
      "managed ---> manag\n"
     ]
    }
   ],
   "source": [
    "#Iterate the tuples\n",
    "for word in words1:\n",
    "    print(word, '--->', ps.stem(word))"
   ]
  },
  {
   "cell_type": "code",
   "execution_count": 14,
   "id": "0f7498b2",
   "metadata": {},
   "outputs": [
    {
     "name": "stdout",
     "output_type": "stream",
     "text": [
      "worked ---> work\n",
      "workable ---> workabl\n",
      "working ---> work\n",
      "worked ---> work\n"
     ]
    }
   ],
   "source": [
    "#Iterate the tuples\n",
    "for word in words2:\n",
    "    print(word, '--->', ps.stem(word))"
   ]
  },
  {
   "cell_type": "code",
   "execution_count": 15,
   "id": "0a0acfd1",
   "metadata": {},
   "outputs": [],
   "source": [
    "from nltk.tokenize import word_tokenize\n",
    "from nltk.corpus import stopwords"
   ]
  },
  {
   "cell_type": "code",
   "execution_count": 18,
   "id": "1858245f",
   "metadata": {},
   "outputs": [],
   "source": [
    "sent= 'Hello friends! How are you? I like Python Programming.'"
   ]
  },
  {
   "cell_type": "code",
   "execution_count": 19,
   "id": "12f0505d",
   "metadata": {},
   "outputs": [],
   "source": [
    "swords = stopwords.words('english')"
   ]
  },
  {
   "cell_type": "code",
   "execution_count": 24,
   "id": "c9904dd8",
   "metadata": {},
   "outputs": [
    {
     "data": {
      "text/plain": [
       "['Hello', 'friends', 'like', 'Python', 'Programming']"
      ]
     },
     "execution_count": 24,
     "metadata": {},
     "output_type": "execute_result"
    }
   ],
   "source": [
    "#Remove the stop words\n",
    "clean =[x for x in word_tokenize(sent) if x.lower() not in swords and x.isalnum()]\n",
    "clean"
   ]
  },
  {
   "cell_type": "code",
   "execution_count": 25,
   "id": "8793ecde",
   "metadata": {},
   "outputs": [
    {
     "data": {
      "text/plain": [
       "['hello', 'friend', 'like', 'python', 'program']"
      ]
     },
     "execution_count": 25,
     "metadata": {},
     "output_type": "execute_result"
    }
   ],
   "source": [
    "clean = [ps.stem(x) for x in clean]\n",
    "clean"
   ]
  },
  {
   "cell_type": "markdown",
   "id": "eb9fe509",
   "metadata": {},
   "source": [
    "### Lancaster Stemmer"
   ]
  },
  {
   "cell_type": "code",
   "execution_count": 27,
   "id": "8da3b784",
   "metadata": {},
   "outputs": [],
   "source": [
    "from nltk.stem import LancasterStemmer"
   ]
  },
  {
   "cell_type": "code",
   "execution_count": 28,
   "id": "6c766b21",
   "metadata": {},
   "outputs": [],
   "source": [
    "ls= LancasterStemmer()"
   ]
  },
  {
   "cell_type": "code",
   "execution_count": 29,
   "id": "adfd3743",
   "metadata": {},
   "outputs": [
    {
     "name": "stdout",
     "output_type": "stream",
     "text": [
      "managing --> man\n",
      "manage --> man\n",
      "managemnet --> managemnet\n",
      "managerial --> man\n",
      "managed --> man\n"
     ]
    }
   ],
   "source": [
    "for word in words1:\n",
    "    print(word, '-->', ls.stem(word))"
   ]
  },
  {
   "cell_type": "code",
   "execution_count": 30,
   "id": "8b4bd5be",
   "metadata": {},
   "outputs": [
    {
     "name": "stdout",
     "output_type": "stream",
     "text": [
      "worked --> work\n",
      "workable --> work\n",
      "working --> work\n",
      "worked --> work\n"
     ]
    }
   ],
   "source": [
    "for word in words2:\n",
    "    print(word, '-->', ls.stem(word))"
   ]
  },
  {
   "cell_type": "code",
   "execution_count": 31,
   "id": "01ff5cac",
   "metadata": {},
   "outputs": [
    {
     "name": "stdout",
     "output_type": "stream",
     "text": [
      "big --> big\n",
      "bigger --> big\n",
      "biggest --> biggest\n"
     ]
    }
   ],
   "source": [
    "for word in words3:\n",
    "    print(word, '-->', ls.stem(word))"
   ]
  },
  {
   "cell_type": "code",
   "execution_count": 32,
   "id": "af2edbbe",
   "metadata": {},
   "outputs": [
    {
     "name": "stdout",
     "output_type": "stream",
     "text": [
      "go --> go\n",
      "gone --> gon\n",
      "went --> went\n",
      "going --> going\n"
     ]
    }
   ],
   "source": [
    "for word in words4:\n",
    "    print(word, '-->', ls.stem(word))"
   ]
  },
  {
   "cell_type": "code",
   "execution_count": 33,
   "id": "4681e70f",
   "metadata": {},
   "outputs": [
    {
     "name": "stdout",
     "output_type": "stream",
     "text": [
      "association --> assocy\n",
      "associated --> assocy\n",
      "associate --> assocy\n"
     ]
    }
   ],
   "source": [
    "for word in words5:\n",
    "    print(word, '-->', ls.stem(word))"
   ]
  },
  {
   "cell_type": "markdown",
   "id": "1ed518e3",
   "metadata": {},
   "source": [
    "### Snowball Stemmer"
   ]
  },
  {
   "cell_type": "code",
   "execution_count": 40,
   "id": "f8ba6b90",
   "metadata": {},
   "outputs": [],
   "source": [
    "from nltk.stem import SnowballStemmer"
   ]
  },
  {
   "cell_type": "code",
   "execution_count": 41,
   "id": "2af4b7b2",
   "metadata": {},
   "outputs": [],
   "source": [
    "#help(SnowballStemmer)"
   ]
  },
  {
   "cell_type": "code",
   "execution_count": 42,
   "id": "22b8e494",
   "metadata": {},
   "outputs": [],
   "source": [
    "ss = SnowballStemmer(language='english')"
   ]
  },
  {
   "cell_type": "code",
   "execution_count": 43,
   "id": "a5a2ef34",
   "metadata": {},
   "outputs": [
    {
     "name": "stdout",
     "output_type": "stream",
     "text": [
      "managing --> manag\n",
      "manage --> manag\n",
      "managemnet --> managemnet\n",
      "managerial --> manageri\n",
      "managed --> manag\n"
     ]
    }
   ],
   "source": [
    "for word in words1:\n",
    "    print(word, '-->', ss.stem(word))"
   ]
  },
  {
   "cell_type": "code",
   "execution_count": 44,
   "id": "3707e68e",
   "metadata": {},
   "outputs": [
    {
     "name": "stdout",
     "output_type": "stream",
     "text": [
      "worked --> work\n",
      "workable --> workabl\n",
      "working --> work\n",
      "worked --> work\n"
     ]
    }
   ],
   "source": [
    "for word in words2:\n",
    "    print(word, '-->', ss.stem(word))"
   ]
  },
  {
   "cell_type": "code",
   "execution_count": 45,
   "id": "03a7db8f",
   "metadata": {},
   "outputs": [
    {
     "name": "stdout",
     "output_type": "stream",
     "text": [
      "big --> big\n",
      "bigger --> bigger\n",
      "biggest --> biggest\n"
     ]
    }
   ],
   "source": [
    "for word in words3:\n",
    "    print(word, '-->', ss.stem(word))"
   ]
  },
  {
   "cell_type": "code",
   "execution_count": 46,
   "id": "3f178100",
   "metadata": {},
   "outputs": [
    {
     "name": "stdout",
     "output_type": "stream",
     "text": [
      "go --> go\n",
      "gone --> gone\n",
      "went --> went\n",
      "going --> go\n"
     ]
    }
   ],
   "source": [
    "for word in words4:\n",
    "    print(word, '-->', ss.stem(word))"
   ]
  },
  {
   "cell_type": "code",
   "execution_count": 47,
   "id": "ae4108b9",
   "metadata": {},
   "outputs": [
    {
     "name": "stdout",
     "output_type": "stream",
     "text": [
      "association --> associ\n",
      "associated --> associ\n",
      "associate --> associ\n"
     ]
    }
   ],
   "source": [
    "for word in words5:\n",
    "    print(word, '-->', ss.stem(word))"
   ]
  },
  {
   "cell_type": "code",
   "execution_count": null,
   "id": "db19e464",
   "metadata": {},
   "outputs": [],
   "source": []
  }
 ],
 "metadata": {
  "kernelspec": {
   "display_name": "Python 3 (ipykernel)",
   "language": "python",
   "name": "python3"
  },
  "language_info": {
   "codemirror_mode": {
    "name": "ipython",
    "version": 3
   },
   "file_extension": ".py",
   "mimetype": "text/x-python",
   "name": "python",
   "nbconvert_exporter": "python",
   "pygments_lexer": "ipython3",
   "version": "3.11.7"
  }
 },
 "nbformat": 4,
 "nbformat_minor": 5
}
